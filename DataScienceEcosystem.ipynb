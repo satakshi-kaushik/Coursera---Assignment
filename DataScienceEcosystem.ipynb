{
 "cells": [
  {
   "cell_type": "markdown",
   "id": "c2f1c05f-1186-4ed1-9b06-2d6b7a0d7e0d",
   "metadata": {},
   "source": [
    "# Data Science Tools and Ecosystem"
   ]
  },
  {
   "cell_type": "markdown",
   "id": "cd982da2-dd06-4315-9df0-d34df56f8d4e",
   "metadata": {},
   "source": [
    "In this notebook, Data Science Tools and Ecosystem are summarized."
   ]
  },
  {
   "cell_type": "markdown",
   "id": "79b101f2-8ea3-40e1-a837-138d66408737",
   "metadata": {},
   "source": [
    "Some of the popular languages that Data Scientists use are:\n",
    "\n",
    "1. Python\n",
    "2. R\n",
    "3. SQL"
   ]
  },
  {
   "cell_type": "markdown",
   "id": "ca281b21-e148-4ef6-a676-dd69dd3bfd01",
   "metadata": {},
   "source": [
    "Some of the commonly used libraries used by Data Scientists include:\n",
    "1. Pandas\n",
    "2. Matplotlib\n",
    "3. Seaborn\n",
    "4. Numpy\n",
    "5. SciKit Learn"
   ]
  },
  {
   "cell_type": "markdown",
   "id": "011bf338-8d82-40c9-82f0-962405908fa3",
   "metadata": {},
   "source": [
    "| Data Science Tools     |\n",
    "|------------------------|\n",
    "| Jupyter Notebook       |\n",
    "| RStudio                |\n",
    "| Apache Spark           |\n"
   ]
  },
  {
   "cell_type": "markdown",
   "id": "d7d2c384-d9b1-4723-a696-039b77a37699",
   "metadata": {},
   "source": [
    "### Below are a few examples of evaluating arithmetic expressions in Python.\n"
   ]
  },
  {
   "cell_type": "code",
   "execution_count": 13,
   "id": "4db36bb2-e92f-4958-afa0-8cc8663d3bdf",
   "metadata": {},
   "outputs": [
    {
     "data": {
      "text/plain": [
       "17"
      ]
     },
     "execution_count": 13,
     "metadata": {},
     "output_type": "execute_result"
    }
   ],
   "source": [
    "# This is a simple arithmetic expression to multiply then add integers\n",
    "(3 * 4) + 5\n"
   ]
  },
  {
   "cell_type": "code",
   "execution_count": 15,
   "id": "02caa8af-f3ee-4d4b-a8f2-441b5e82bf1a",
   "metadata": {},
   "outputs": [
    {
     "data": {
      "text/plain": [
       "3.3333333333333335"
      ]
     },
     "execution_count": 15,
     "metadata": {},
     "output_type": "execute_result"
    }
   ],
   "source": [
    "# This will convert 200 minutes to hours by dividing by 60\n",
    "200 / 60"
   ]
  },
  {
   "cell_type": "markdown",
   "id": "7f48a23e-d817-43ca-9c14-86eb884fd636",
   "metadata": {},
   "source": [
    "**Objectives:**\n",
    "\n",
    "- List popular languages for Data Science  \n",
    "- Identify commonly used Data Science libraries  \n",
    "- Create and format Markdown cells in Jupyter Notebook  \n",
    "- Perform arithmetic operations using Python code cells  \n",
    "- Convert minutes into hours using Python  \n"
   ]
  },
  {
   "cell_type": "markdown",
   "id": "fb1614a5-faf9-44a3-987c-3f9f1ffd5d6d",
   "metadata": {},
   "source": [
    "## Author\n",
    "\n",
    "Satakshi Kaushik\n"
   ]
  },
  {
   "cell_type": "code",
   "execution_count": null,
   "id": "20d20ca5-d5ae-4574-b6f9-d32f830b213d",
   "metadata": {},
   "outputs": [],
   "source": []
  }
 ],
 "metadata": {
  "kernelspec": {
   "display_name": "Python 3 (ipykernel)",
   "language": "python",
   "name": "python3"
  },
  "language_info": {
   "codemirror_mode": {
    "name": "ipython",
    "version": 3
   },
   "file_extension": ".py",
   "mimetype": "text/x-python",
   "name": "python",
   "nbconvert_exporter": "python",
   "pygments_lexer": "ipython3",
   "version": "3.12.7"
  }
 },
 "nbformat": 4,
 "nbformat_minor": 5
}
